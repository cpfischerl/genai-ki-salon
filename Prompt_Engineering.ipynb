{
  "nbformat": 4,
  "nbformat_minor": 0,
  "metadata": {
    "colab": {
      "provenance": []
    },
    "kernelspec": {
      "name": "python3",
      "display_name": "Python 3"
    },
    "language_info": {
      "name": "python"
    }
  },
  "cells": [
    {
      "cell_type": "markdown",
      "source": [
        "# Übung 1: Prompt Engineering"
      ],
      "metadata": {
        "id": "1Yk_ABugpvGV"
      }
    },
    {
      "cell_type": "markdown",
      "source": [
        "## Setup der Pipeline"
      ],
      "metadata": {
        "id": "18qK4zbBp8pi"
      }
    },
    {
      "cell_type": "code",
      "execution_count": 1,
      "metadata": {
        "colab": {
          "base_uri": "https://localhost:8080/"
        },
        "id": "hrPtLMhcpo72",
        "outputId": "cc8c988a-0250-4d25-f44f-051208ffbdc9"
      },
      "outputs": [
        {
          "output_type": "stream",
          "name": "stdout",
          "text": [
            "Collecting haystack-ai\n",
            "  Downloading haystack_ai-2.6.1-py3-none-any.whl.metadata (13 kB)\n",
            "Collecting haystack-experimental (from haystack-ai)\n",
            "  Downloading haystack_experimental-0.3.0-py3-none-any.whl.metadata (11 kB)\n",
            "Requirement already satisfied: jinja2 in /usr/local/lib/python3.10/dist-packages (from haystack-ai) (3.1.4)\n",
            "Collecting lazy-imports (from haystack-ai)\n",
            "  Downloading lazy_imports-0.3.1-py3-none-any.whl.metadata (10 kB)\n",
            "Requirement already satisfied: more-itertools in /usr/local/lib/python3.10/dist-packages (from haystack-ai) (10.5.0)\n",
            "Requirement already satisfied: networkx in /usr/local/lib/python3.10/dist-packages (from haystack-ai) (3.4.2)\n",
            "Requirement already satisfied: numpy<2 in /usr/local/lib/python3.10/dist-packages (from haystack-ai) (1.26.4)\n",
            "Requirement already satisfied: openai>=1.1.0 in /usr/local/lib/python3.10/dist-packages (from haystack-ai) (1.52.2)\n",
            "Requirement already satisfied: pandas in /usr/local/lib/python3.10/dist-packages (from haystack-ai) (2.2.2)\n",
            "Collecting posthog (from haystack-ai)\n",
            "  Downloading posthog-3.7.0-py2.py3-none-any.whl.metadata (2.0 kB)\n",
            "Requirement already satisfied: python-dateutil in /usr/local/lib/python3.10/dist-packages (from haystack-ai) (2.8.2)\n",
            "Requirement already satisfied: pyyaml in /usr/local/lib/python3.10/dist-packages (from haystack-ai) (6.0.2)\n",
            "Requirement already satisfied: requests in /usr/local/lib/python3.10/dist-packages (from haystack-ai) (2.32.3)\n",
            "Requirement already satisfied: tenacity!=8.4.0 in /usr/local/lib/python3.10/dist-packages (from haystack-ai) (9.0.0)\n",
            "Requirement already satisfied: tqdm in /usr/local/lib/python3.10/dist-packages (from haystack-ai) (4.66.6)\n",
            "Requirement already satisfied: typing-extensions>=4.7 in /usr/local/lib/python3.10/dist-packages (from haystack-ai) (4.12.2)\n",
            "Requirement already satisfied: anyio<5,>=3.5.0 in /usr/local/lib/python3.10/dist-packages (from openai>=1.1.0->haystack-ai) (3.7.1)\n",
            "Requirement already satisfied: distro<2,>=1.7.0 in /usr/local/lib/python3.10/dist-packages (from openai>=1.1.0->haystack-ai) (1.9.0)\n",
            "Requirement already satisfied: httpx<1,>=0.23.0 in /usr/local/lib/python3.10/dist-packages (from openai>=1.1.0->haystack-ai) (0.27.2)\n",
            "Requirement already satisfied: jiter<1,>=0.4.0 in /usr/local/lib/python3.10/dist-packages (from openai>=1.1.0->haystack-ai) (0.6.1)\n",
            "Requirement already satisfied: pydantic<3,>=1.9.0 in /usr/local/lib/python3.10/dist-packages (from openai>=1.1.0->haystack-ai) (2.9.2)\n",
            "Requirement already satisfied: sniffio in /usr/local/lib/python3.10/dist-packages (from openai>=1.1.0->haystack-ai) (1.3.1)\n",
            "Requirement already satisfied: MarkupSafe>=2.0 in /usr/local/lib/python3.10/dist-packages (from jinja2->haystack-ai) (3.0.2)\n",
            "Requirement already satisfied: pytz>=2020.1 in /usr/local/lib/python3.10/dist-packages (from pandas->haystack-ai) (2024.2)\n",
            "Requirement already satisfied: tzdata>=2022.7 in /usr/local/lib/python3.10/dist-packages (from pandas->haystack-ai) (2024.2)\n",
            "Requirement already satisfied: six>=1.5 in /usr/local/lib/python3.10/dist-packages (from python-dateutil->haystack-ai) (1.16.0)\n",
            "Collecting monotonic>=1.5 (from posthog->haystack-ai)\n",
            "  Downloading monotonic-1.6-py2.py3-none-any.whl.metadata (1.5 kB)\n",
            "Collecting backoff>=1.10.0 (from posthog->haystack-ai)\n",
            "  Downloading backoff-2.2.1-py3-none-any.whl.metadata (14 kB)\n",
            "Requirement already satisfied: charset-normalizer<4,>=2 in /usr/local/lib/python3.10/dist-packages (from requests->haystack-ai) (3.4.0)\n",
            "Requirement already satisfied: idna<4,>=2.5 in /usr/local/lib/python3.10/dist-packages (from requests->haystack-ai) (3.10)\n",
            "Requirement already satisfied: urllib3<3,>=1.21.1 in /usr/local/lib/python3.10/dist-packages (from requests->haystack-ai) (2.2.3)\n",
            "Requirement already satisfied: certifi>=2017.4.17 in /usr/local/lib/python3.10/dist-packages (from requests->haystack-ai) (2024.8.30)\n",
            "Requirement already satisfied: exceptiongroup in /usr/local/lib/python3.10/dist-packages (from anyio<5,>=3.5.0->openai>=1.1.0->haystack-ai) (1.2.2)\n",
            "Requirement already satisfied: httpcore==1.* in /usr/local/lib/python3.10/dist-packages (from httpx<1,>=0.23.0->openai>=1.1.0->haystack-ai) (1.0.6)\n",
            "Requirement already satisfied: h11<0.15,>=0.13 in /usr/local/lib/python3.10/dist-packages (from httpcore==1.*->httpx<1,>=0.23.0->openai>=1.1.0->haystack-ai) (0.14.0)\n",
            "Requirement already satisfied: annotated-types>=0.6.0 in /usr/local/lib/python3.10/dist-packages (from pydantic<3,>=1.9.0->openai>=1.1.0->haystack-ai) (0.7.0)\n",
            "Requirement already satisfied: pydantic-core==2.23.4 in /usr/local/lib/python3.10/dist-packages (from pydantic<3,>=1.9.0->openai>=1.1.0->haystack-ai) (2.23.4)\n",
            "Downloading haystack_ai-2.6.1-py3-none-any.whl (372 kB)\n",
            "\u001b[2K   \u001b[90m━━━━━━━━━━━━━━━━━━━━━━━━━━━━━━━━━━━━━━━━\u001b[0m \u001b[32m372.1/372.1 kB\u001b[0m \u001b[31m6.2 MB/s\u001b[0m eta \u001b[36m0:00:00\u001b[0m\n",
            "\u001b[?25hDownloading haystack_experimental-0.3.0-py3-none-any.whl (89 kB)\n",
            "\u001b[2K   \u001b[90m━━━━━━━━━━━━━━━━━━━━━━━━━━━━━━━━━━━━━━━━\u001b[0m \u001b[32m89.4/89.4 kB\u001b[0m \u001b[31m6.6 MB/s\u001b[0m eta \u001b[36m0:00:00\u001b[0m\n",
            "\u001b[?25hDownloading lazy_imports-0.3.1-py3-none-any.whl (12 kB)\n",
            "Downloading posthog-3.7.0-py2.py3-none-any.whl (54 kB)\n",
            "\u001b[2K   \u001b[90m━━━━━━━━━━━━━━━━━━━━━━━━━━━━━━━━━━━━━━━━\u001b[0m \u001b[32m54.4/54.4 kB\u001b[0m \u001b[31m3.6 MB/s\u001b[0m eta \u001b[36m0:00:00\u001b[0m\n",
            "\u001b[?25hDownloading backoff-2.2.1-py3-none-any.whl (15 kB)\n",
            "Downloading monotonic-1.6-py2.py3-none-any.whl (8.2 kB)\n",
            "Installing collected packages: monotonic, lazy-imports, backoff, posthog, haystack-experimental, haystack-ai\n",
            "Successfully installed backoff-2.2.1 haystack-ai-2.6.1 haystack-experimental-0.3.0 lazy-imports-0.3.1 monotonic-1.6 posthog-3.7.0\n"
          ]
        }
      ],
      "source": [
        "!pip install haystack-ai"
      ]
    },
    {
      "cell_type": "code",
      "source": [
        "from IPython.display import display, Markdown\n",
        "\n",
        "def run_pipeline(pipeline, prompt):\n",
        "    result = pipeline.run(\n",
        "        {\n",
        "            \"generator\": {\"prompt\": prompt}\n",
        "        }\n",
        "    )\n",
        "    return Markdown(result[\"generator\"][\"replies\"][0])"
      ],
      "metadata": {
        "id": "em8Z6vcDloGW"
      },
      "execution_count": 6,
      "outputs": []
    },
    {
      "cell_type": "code",
      "source": [
        "import os\n",
        "from getpass import getpass\n",
        "from haystack import Pipeline\n",
        "from haystack.components.generators import AzureOpenAIGenerator\n",
        "from haystack.utils import Secret\n",
        "\n",
        "azure_endpoint = \"https://cofinpro-training-openai-studio.openai.azure.com/\"\n",
        "azure_deployment = \"gpt-4o\"\n",
        "\n",
        "\n",
        "api_key = getpass(\"Enter OpenAI API key:\")\n",
        "\n",
        "generator = AzureOpenAIGenerator(\n",
        "    azure_endpoint=azure_endpoint,\n",
        "    azure_deployment=azure_deployment,\n",
        "    api_key=Secret.from_token(api_key)\n",
        ")\n",
        "\n",
        "pipeline = Pipeline()\n",
        "pipeline.add_component(\"generator\", generator)"
      ],
      "metadata": {
        "colab": {
          "base_uri": "https://localhost:8080/"
        },
        "id": "yZ0Ka7BNq6lo",
        "outputId": "7544c951-3ac9-4237-d4e1-f2137b58cb8b"
      },
      "execution_count": 3,
      "outputs": [
        {
          "name": "stdout",
          "output_type": "stream",
          "text": [
            "Enter OpenAI API key:··········\n"
          ]
        }
      ]
    },
    {
      "cell_type": "markdown",
      "source": [
        "## Prompting\n",
        "\n",
        "### Aufgabe 1: Zusammenfassen von Text\n",
        "Ein Portfoliomanager einer Großbank sucht in einem Marktbericht nach Informationen zur Entwicklung des US-Marktes, um potenzielle Auswirkungen auf sein Portfolio abschätzen zu lönnen."
      ],
      "metadata": {
        "id": "eiHDRx4aohoi"
      }
    },
    {
      "cell_type": "code",
      "source": [
        "market_research = \"\"\"\n",
        "Leichtes Wochenminus Rekorde in den USA - Kursverluste im DAX\n",
        "Stand: 08.11.2024 17:58 Uhr\n",
        "Die Wiederwahl Donald Trumps und das Ende der Regierungskoalition waren die beherrschenden Themen der Handelswoche. Trotz wilder Kursausschläge hat sich der DAX auf Wochensicht kaum vom Fleck bewegt.\n",
        "Am Ende einer turbulenten Woche schließt der DAX mit einem Abschlag von 0,8 Prozent auf 19.215 Punkte. Auf Wochensicht ergab sich daraus ein Minus von rund 0,2 Prozent.\n",
        "Die Anleger mussten gleich zwei wichtige politische Ereignisse verkraften: die Wiederwahl Donald Trumps und das Aus der Ampel-Koalition. \"Die Entwicklung in Amerika verschärft die schwierige Lage der deutschen Wirtschaft\", sagte LBBW-Chefvolkswirt Moritz Kraemer. \"Der nun freie Weg zu Neuwahlen bietet ihr aber auch neue Chancen.\"\n",
        "\"Fragile politische Lage in Deutschland\"\n",
        "Gleichwohl sind die Ungewissheiten groß, mit denen die Investoren derzeit konfrontiert sind. Es sei momentan keine einfache Lage an den Aktienmärkten, kommentiert ING-Marktexperte Christian Zoller: \"Auf der einen Seite ist der November einer der bullishsten Börsenmonate des Jahres und der Beginn der starken Börsenmonate bis Mai. Auf der anderen Seite könnte die Wahl von Donald Trump zum neuen US-Präsidenten zunächst der amerikanischen Wirtschaft Auftrieb geben, aber nicht unbedingt der deutschen und europäischen Wirtschaft, die wohl eher mit weiterem Gegenwind zu rechnen haben.\" Auch die fragile politische Lage in Deutschland durch das Ende der Ampel sei nicht hilfreich.\n",
        "Anlagestratege Jürgen Molnar vom Brokerhaus RoboMarkets stellt fest: \"Anleger sind hin- und hergerissen, ob sie nun dem drohenden, protektionistischen Gegenwind aus den USA oder doch eher der Hoffnung auf eine Stimmungswende nach dem Ampel-Aus in Deutschland mehr Beachtung schenken sollen.\"\n",
        "China-Enttäuschung lastet auf Kauflaune\n",
        "Auf die Stimmung der Anleger drückte zum Wochenschluss ferner, dass das Konjunkturpaket in China kleiner ausfällt als erwartet. Die Regierung in Peking erlaubt lokalen Behörden, in Schattenhaushalten verborgene Schulden über die Ausgabe neuer Anleihen im Gesamtvolumen von umgerechnet 838 Milliarden Euro abzulösen.\n",
        "Marktexperte Stephen Innes vom Vermögensverwalter Spi Asset Management verwies auf Zweifel, ob diese Konjunkturmaßnahmen, um eine härtere Gangart der künftigen Trump-Regierung gegenüber China auszugleichen. Es brauche dafür ein massives Paket. Sonst bestehe die Gefahr, dass die Erholung der chinesischen Wirtschaft wieder abebbe. Für die ohnehin schwächelnde deutsche Konjunktur wäre das ein schlechtes Szenario.\n",
        "Rekorde an der Wall Street\n",
        "In den USA ging die Rekordjagd dagegen weiter: Dow Jones und S&P 500 erreichten weitere Bestmarken, der Nasdaq 100 blieb dagegen knapp unter seiner vom Vortag. Der Dow Jones sprang erstmals über die Marke von 44.000 Punkten. Aktuell liegt das Plus bei 0,7 Prozent auf 44.040 Zählern.\n",
        "Der aufgrund seiner Marktbreite besonders aussagekräftige S&P 500 steigt um 0,4 Prozent auf 5.997 Punkte. Der technologielastige Nasdaq 100 notiert nach seinen kräftigen Kursgewinnen am Vortag prozentual fast unverändert bei 21.108 Zählern.\n",
        "Der klare Sieg von Donald Trump bei der US-Präsidentschaftswahl hatte an den US-Börsen zur Wochenmitte eine Kursrally ausgelöst. Steuersenkungen, Deregulierung, aber auch eine drohende höhere Verschuldung sind Themen, auf die Anleger nun achten.\n",
        "Dass die US-Notenbank gestern den Leitzins wie erwartet um 0,25 Prozentpunkte gesenkt hat, sorgt heute zumindest auch für etwas Rückenwind. Die Sitzung des zuständigen Notenbank-Ausschusses sei \"geldpolitisch weniger spektakulär\" gewesen, schreiben die Experten der Dekabank. Fehlende Signale für eine Pause bei den Zinssenkungen im Dezember würden sich leicht positiv auswirken.\n",
        "Chemiewerte schwächeln, BASF am DAX-Ende\n",
        "Chemiewerte gehörten zum Wochenschluss zu den schwächsten Werten am deutschen Aktienmarkt. Auch hier ist der Grund das enttäuschende Konjunkturprogramm in China. Für viele deutsche Unternehmen ist China ein wichtiger Markt. Im DAX halten Papiere von BASF die rote Laterne. Im MDAX führten Lanxess und Wacker Chemie die Verliererliste an.\n",
        "E-Rezept als Kurstreiber für Redcare Pharmacy\n",
        "Größter MDAX-Gewinner waren Aktien von Redcare Pharmacy, nachdem das Analysehaus Kepler Cheuvreux die Online-Apotheke auf \"Hold\" hochgestuft und damit die pessimistische Haltung aufgegeben hat. Das E-Rezept biete praktisch unendliches Potenzial, schrieben die Experten. Dessen Einführung gilt seit Monaten als Kurstreiber für Redcare.\n",
        "Finanzvorstand steigt bei Hannover Rück zum Chef auf\n",
        "Hannover-Rück-Vorstandschef Jean-Jacques Henchoz nimmt Ende März nach sechs Jahren an der Spitze des weltweit drittgrößten Rückversicherers den Hut. Sein Nachfolger kommt aus dem eigenen Haus: Der seit 2020 amtierende Finanzvorstand Clemens Jungsthöfel (54) steigt zum 1. April 2025 zum Vorstandschef auf.\n",
        "Freenet-Aktie klettert auf Sieben-Jahres-Hoch\n",
        "Starke Quartalsergebnisse und ein optimistischer Ausblick haben Freenet den größten Kurssprung seit etwa zweieinhalb Jahren beschert. Das Unternehmen hatte dank eines anhaltend hohen Kundenzustroms der Sparte Waipu.tv seine Prognosen für 2024 leicht angehoben.\n",
        "LEG blickt optimistisch auf 2025\n",
        "Der Immobilienkonzern LEG hat in den ersten neun Monaten einen Gewinn von 10,4 Millionen Euro eingefahren - vor Jahresfrist stand durch den Preisverfall bei Immobilien noch ein Verlust von knapp einer Milliarde Euro in den Büchern. Für 2025 erwartet LEG nun \"weiteres signifikantes Ertragswachstum\".\n",
        "Bechtle streicht Prognose\n",
        "Der IT-Dienstleister Bechtle streicht wegen ausbleibender Aufträge seine Prognose. Vor allem mittelständische Kunden zögerten bei der Erneuerung der klassischen IT-Infrastruktur, sagte Bechtle-Chef Thomas Olemotz. Im Sommerquartal war das Betriebsergebnis um 16,2 Prozent auf knapp 80 Millionen Euro gefallen .\n",
        "Boeing pocht nach Streik auf Stellenabbau\n",
        "Der kriselnde Flugzeugbauer Boeing will seine während eines siebenwöchigen Streiks in den Zwangsurlaub geschickten Mitarbeiter entlohnen, pocht zugleich aber auf seine Pläne für einen Abbau von rund zehn Prozent der Stellen. Boeing wolle den betroffenen Beschäftigten für ihre Unterstützung danken und sie ausbezahlen, schrieb Konzernchef Kelly Ortberg an die Mitarbeiter.\n",
        "\"\"\""
      ],
      "metadata": {
        "id": "c1AcOb7FnZP_"
      },
      "execution_count": 8,
      "outputs": []
    },
    {
      "cell_type": "code",
      "source": [
        "summary_prompt = f\"\"\"\n",
        "Fasse den Marktbericht zusammen.\n",
        "{market_research}\n",
        "\"\"\"\n",
        "\n",
        "display(run_pipeline(pipeline, summary_prompt))"
      ],
      "metadata": {
        "id": "rPGdGIk3odyp",
        "colab": {
          "base_uri": "https://localhost:8080/",
          "height": 259
        },
        "outputId": "70dab6a4-f6d4-4716-f72f-a5f0cac9a9b9"
      },
      "execution_count": 9,
      "outputs": [
        {
          "output_type": "display_data",
          "data": {
            "text/plain": [
              "<IPython.core.display.Markdown object>"
            ],
            "text/markdown": "Zusammenfassung des Marktberichts (08.11.2024):\n\n- Der DAX schloss die Woche mit einem leichten Minus von 0,2 Prozent, größtenteils beeinflusst durch die Wiederwahl Donald Trumps und das Ende der deutschen Ampel-Koalition.\n- In den USA erreichten Dow Jones und S&P 500 neue Rekordstände, während der Nasdaq 100 nahezu unverändert blieb.\n- Die chemischen Sektorwerte in Deutschland verzeichneten Verluste, insbesondere BASF im DAX und Lanxess sowie Wacker Chemie im MDAX, aufgrund enttäuschender Wirtschaftsdaten aus China.\n- Redcare Pharmacy stieg als bester MDAX-Wert, angetrieben durch optimistische Einschätzungen des Analysehauses Kepler Cheuvreux und das Potential des E-Rezepts.\n- Clemens Jungsthöfel wird ab April 2025 neuer Vorstandschef der Hannover Rück.\n- Freenet erzielte durch starke Quartalsergebnisse und optimistische Aussichten ein Sieben-Jahres-Hoch.\n- LEG blickt optimistisch auf 2025 mit erwarteten signifikanten Ertragswachstum.\n- Bechtle senkte die Prognose wegen ausbleibender Aufträge.\n- Boeing plant Stellenabbau nach einem siebenwöchigen Streik, wird aber betroffene Mitarbeiter kompensieren."
          },
          "metadata": {}
        }
      ]
    },
    {
      "cell_type": "markdown",
      "source": [
        "### Aufgabe 2: Erstellung eines Marketingtextes\n",
        "Eine Fondsgesellschaft legt einen neuen Fonds mit folgenden Schwerpunkten auf:\n",
        "\n",
        "**Anlageschwerpunkt**: europäische Unternehmen, die sich für Klimaschutz einsetzen\n",
        "\n",
        "**Zielgruppe**: umweltbewusste Anleger mit mittlerem Risikobewusstsein\n",
        "\n",
        "Die Marketingsabteilung möchte den Fonds attraktiv auf der Website bewerben und sucht nach einem seriösen, aber kreativen Text für die Anlageidee und die Investitionsargumente analog dem folgenden Produkt:\n",
        "\n",
        "https://www.deka.de/privatkunden/fondsprofil?id=DE0008474511"
      ],
      "metadata": {
        "id": "DoqR5NtIlZuE"
      }
    },
    {
      "cell_type": "code",
      "source": [
        "marketing_prompt = \"\"\"\n",
        "Schreibe einen Werbetext für ein neues Anlageprodukt.\n",
        "\"\"\"\n",
        "\n",
        "display(run_pipeline(pipeline, marketing_prompt))"
      ],
      "metadata": {
        "colab": {
          "base_uri": "https://localhost:8080/",
          "height": 424
        },
        "id": "h3G1lCL2mJZ2",
        "outputId": "b67e4590-c9b5-4923-a1f7-46f887c6c322"
      },
      "execution_count": 10,
      "outputs": [
        {
          "output_type": "display_data",
          "data": {
            "text/plain": [
              "<IPython.core.display.Markdown object>"
            ],
            "text/markdown": "**Entdecken Sie Ihr Vermögenspotenzial mit unserem neuen Anlageprodukt!**\n\nSuchen Sie nach einer zuverlässigen Möglichkeit, Ihr Geld zu vermehren und Ihre finanzielle Zukunft zu sichern? Dann haben wir genau das Richtige für Sie! Unser neuestes Anlageprodukt kombiniert Sicherheit, Wachstum und Flexibilität, damit Sie Ihre Anlageziele problemlos erreichen können.\n\n**Warum unser Anlageprodukt?**\n\n✔ **Maximale Sicherheit**: Vertrauen Sie auf geprüfte Strategien und fundierte Expertise. Unser Produkt bietet Ihnen eine solide Basis mit geringen Risiken.\n\n✔ **Attraktive Renditen**: Nutzen Sie die Chance auf überdurchschnittliche Gewinne. Unsere erfahrenen Finanzexperten arbeiten kontinuierlich daran, Ihre Investments zum Erfolg zu führen.\n\n✔ **Flexibilität & Anpassbarkeit**: Passen Sie Ihr Portfolio Ihren individuellen Bedürfnissen an. Egal ob langfristige Vorsorge oder kurzfristige Gewinne - wir bieten Ihnen maßgeschneiderte Lösungen.\n\n✔ **Professionelle Betreuung**: Genießen Sie persönlichen Service von unseren hochqualifizierten Beratern. Wir begleiten Sie auf jedem Schritt Ihres Anlagewegs, damit Sie stets die bestmöglichen Entscheidungen treffen können.\n\n✔ **Nachhaltige Investitionen**: Investieren Sie in eine Zukunft, die Ihnen finanzielle Stabilität und ein gutes Gewissen bietet. Unsere Anlageoptionen fokussieren sich auf nachhaltige und verantwortungsbewusste Investments.\n\n**Starten Sie noch heute und sichern Sie sich Ihre finanzielle Freiheit!**\n\nMit unserem neuen Anlageprodukt verwirklichen Sie Ihre Ziele einfacher und sicherer als je zuvor. Kontaktieren Sie uns jetzt für ein unverbindliches Beratungsgespräch und entdecken Sie, wie Sie Ihr Vermögen optimal aufbauen können.\n\n**Jetzt informieren und investieren – weil Ihre Zukunft es wert ist!**\n\n[Kontaktinformationen und Call-to-Action]\n\nIhr Erfolg ist unsere Mission. Lassen Sie uns gemeinsam die Grundlage für Ihre finanzielle Unabhängigkeit schaffen!"
          },
          "metadata": {}
        }
      ]
    }
  ]
}